{
 "cells": [
  {
   "cell_type": "markdown",
   "metadata": {},
   "source": [
    "# Bayesian Filtering for Tracking #"
   ]
  },
  {
   "cell_type": "markdown",
   "metadata": {},
   "source": [
    "## Robot Localization ##\n",
    "\n",
    "#### Localization is one of the fundamental problems in mobile robotics. There are multiple instances of the localization problem with different difficulties. In this example, we consider a scenario where the robot has a map of the environment. Then we consider two cases: ###\n",
    "\n",
    "__1. The initial position is known and then needs to keep track of its position.__\n",
    "\n",
    "__2. Localize itself from scratch when it could be anywhere.__\n",
    "\n",
    "#### Why not GPS? Because it is not accurate enough in many scenarios. <br> <br> Self-driving cars need accuracy of a few centimeters. Thus they need additional sensors to help with the localization. ####"
   ]
  },
  {
   "cell_type": "markdown",
   "metadata": {},
   "source": [
    "### Import libraries ###"
   ]
  },
  {
   "cell_type": "code",
   "execution_count": null,
   "metadata": {},
   "outputs": [],
   "source": [
    "from __future__ import print_function, division\n",
    "import numpy as np\n",
    "import matplotlib.pyplot as plt"
   ]
  },
  {
   "cell_type": "markdown",
   "metadata": {},
   "source": [
    "## Consider a hallway (ciricular) with door ##\n",
    "### There is a robot with a sensor inside ###"
   ]
  },
  {
   "cell_type": "markdown",
   "metadata": {},
   "source": [
    "<img src=\"circular-hallway-with.jpg\" alt=\"Drawing\" style=\"width: 400px;\"/>"
   ]
  },
  {
   "cell_type": "markdown",
   "metadata": {},
   "source": [
    "<img src=\"wheel.png\" alt=\"Drawing\" style=\"width: 400px;\"/>"
   ]
  },
  {
   "cell_type": "markdown",
   "metadata": {},
   "source": [
    "<tr>\n",
    "    <td> <img src=\"wheel.png\" alt=\"Drawing\" style=\"width: 350px;\"/> </td>\n",
    "    <td> <img src=\"roger.jpg\" alt=\"Drawing\" style=\"width: 350px;\"/> </td>\n",
    "    </tr>"
   ]
  },
  {
   "cell_type": "markdown",
   "metadata": {},
   "source": [
    "#### Consider a hallway with three doors and seven wall segments. #### "
   ]
  },
  {
   "cell_type": "code",
   "execution_count": null,
   "metadata": {},
   "outputs": [],
   "source": [
    "hallway = np.array([1, 1, 0, 0, 0, 0, 0, 0, 1, 0])"
   ]
  },
  {
   "cell_type": "markdown",
   "metadata": {},
   "source": [
    "### State ###\n",
    "#### We consider discrete time. At any time $t$, we  characterize a dynamic system by a state vector $x_t$, also called simply \"the state\". <br> State of a moving robot on a plane: $x_t=(X_t,Y_t,X^{'}_t,Y^{'}_t)$ where $X_t, Y_t$ refers to the robot’s current position and $X^{'}_t, Y^{'}_t$ to its speed in the X and Y direction, respectively. "
   ]
  },
  {
   "cell_type": "markdown",
   "metadata": {},
   "source": [
    "### Measurements\n",
    "#### The state $x_t$ may be unobservable: it cannot be measured directly. Instead, sensors may generate (noisy) measurements, $e_t$, of phenomena that are caused by the state."
   ]
  },
  {
   "cell_type": "markdown",
   "metadata": {},
   "source": [
    "### Belief\n",
    "#### Since the state $x_t$ is unobservable, we maintain a belief about the state\n"
   ]
  },
  {
   "cell_type": "code",
   "execution_count": null,
   "metadata": {},
   "outputs": [],
   "source": [
    "belief = np.array([.1, .1, .1, .1, .1, .1, .1, .1, .1, .1])\n",
    "y_pos = np.arange(len(belief))\n",
    "plt.ylim(0.0, 1.0)\n",
    "plt.xticks(np.arange(0, len(belief), step=1))\n",
    "plt.bar(y_pos, belief)"
   ]
  },
  {
   "cell_type": "markdown",
   "metadata": {},
   "source": [
    "### Let's say sensor measurement is \"door\" ###"
   ]
  },
  {
   "cell_type": "code",
   "execution_count": null,
   "metadata": {},
   "outputs": [],
   "source": [
    "belief = np.array([1./3, 1./3, 0, 0, 0, 0, 0, 0, 1./3, 0])"
   ]
  },
  {
   "cell_type": "code",
   "execution_count": null,
   "metadata": {},
   "outputs": [],
   "source": [
    "y_pos = np.arange(len(belief))\n",
    "plt.ylim(0.0, 1.0)\n",
    "plt.xticks(np.arange(0, len(belief), step=1))\n",
    "plt.bar(y_pos, belief)"
   ]
  },
  {
   "cell_type": "markdown",
   "metadata": {},
   "source": [
    "### Now suppose we get the following readings: ###\n",
    "1. door\n",
    "2. move right\n",
    "3. door\n"
   ]
  },
  {
   "cell_type": "code",
   "execution_count": null,
   "metadata": {},
   "outputs": [],
   "source": [
    "belief = np.array([0, 1, 0, 0, 0, 0, 0, 0, 0, 0])"
   ]
  },
  {
   "cell_type": "code",
   "execution_count": null,
   "metadata": {},
   "outputs": [],
   "source": [
    "y_pos = np.arange(len(belief))\n",
    "plt.ylim(0.0, 1.0)\n",
    "plt.xticks(np.arange(0, len(belief), step=1))\n",
    "plt.bar(y_pos, belief)"
   ]
  },
  {
   "cell_type": "markdown",
   "metadata": {},
   "source": [
    "### Updating Belief\n",
    "#### Since the state $x_t$ is unobservable, we maintain a belief about the state, $b(x_t)$, given the measurements. This process is also called filtering or state estimation. In mathematical terms, the belief is a probability distribution over all possible states, conditioned by the observations so far: \n",
    "> $b(x_t):= P(x_t∣e_{0:t})$ \n",
    "#### where $e_{0:t}$ is a short-hand notation for $(e_0,e_1,\\cdots,e_t)$\n",
    "\n",
    "#### We also define $\\bar{b}(x_t)$ as the projected state or belief, which is the probability distribution over all the possible states at time $t$, given only past observations:\n",
    "> $\\bar{b}(x_t):= P(x_t∣e_{1:t-1})$ <br>"
   ]
  },
  {
   "cell_type": "markdown",
   "metadata": {},
   "source": [
    "### Recursive estimation or Bayesian Filtering\n",
    "#### The number of measurements we have to condition by in order to determine the belief increases unboundedly over time. \n",
    "#### This means: memory requirement as well as computation time increase unboundedly, since we have to consider all the measurements so far. \n",
    "#### Computationally tractable method: find a function $f$ such that \n",
    "> $b(x_{t+1})=f(b(x_t),e_{t+1})$\n",
    "#### Two step process: (1) take the belief of the previous time step and project it to the new time step and (2) update it in accordance with new evidence. "
   ]
  },
  {
   "cell_type": "markdown",
   "metadata": {},
   "source": [
    "### Transition model\n",
    "#### In real-world scenarios are stochastic: given past states $x_0, x_1, \\cdots, x_t$, we cannot exactly tell what the state $x_{t+1}$ will be. However, we can assign likelihoods to each possible value for state $x_{t+1}$\n",
    "> $P(x_{t+1}∣x_{0},x_1,\\cdots,x_t)$\n",
    "### Markov assumption\n",
    "> $P(x_{t+1}∣x_{0},x_1,\\cdots,x_t) = P(x_{t+1}∣x_t)$"
   ]
  },
  {
   "cell_type": "markdown",
   "metadata": {},
   "source": [
    "### Sensor model\n",
    "#### Environment may be only partially observable or the sensors may be inaccurate:\n",
    "> $P(e_t∣x_t)$"
   ]
  },
  {
   "cell_type": "markdown",
   "metadata": {},
   "source": [
    "## The Bayes Filter Algorithm\n",
    "\n",
    "### Step 1: Projection\n",
    "\n",
    "#### In this step, we project the belief of the previous time step to the current time step\n",
    "> $\\bar{b}(x_{t+1}) = \\int_{x_t} P(x_{t+1}∣x_t)b(x_t)$\n",
    "\n",
    "### Step 2: Update \n",
    "#### In this step, we update the projected belief with the new measurements $e_{t+1}$\n",
    "> $b(x_{t+1}) = \\eta P(e_{t+1}∣x_{t+1})\\bar{b}(x_{t+1})$\n",
    "#### Here, $\\eta$ has the function of a normalizing constant (so we do not have to calculate it directly from its definition)"
   ]
  },
  {
   "cell_type": "markdown",
   "metadata": {},
   "source": [
    "## Continuous Bayes filter\n",
    "> $\\bar{b}(x_{t+1})=\\int_{x_t}P(x_{t+1}∣x_t)b(x_t)$ <br>\n",
    "$b(x_{t+1})=\\eta P(e_{t+1}∣x_{t+1})\\bar{b}(x_{t+1})$"
   ]
  },
  {
   "cell_type": "markdown",
   "metadata": {},
   "source": [
    "## Discrete Bayes filter\n",
    "> $\\bar{b}(x_{t+1})=\\sum_{x_t}P(x_{t+1}∣x_t)b(x_t)$ <br>\n",
    "$b(x_{t+1})=\\eta P(e_{t+1}∣x_{t+1})\\bar{b}(x_{t+1})$"
   ]
  },
  {
   "cell_type": "markdown",
   "metadata": {},
   "source": [
    "<tr>\n",
    "<td> <img src=\"wheel.png\" alt=\"Drawing\" style=\"width: 350px;\"/> </td>\n",
    "<td> <img src=\"roger.jpg\" alt=\"Drawing\" style=\"width: 350px;\"/> </td>\n",
    "</tr>"
   ]
  },
  {
   "cell_type": "code",
   "execution_count": null,
   "metadata": {},
   "outputs": [],
   "source": [
    "hallway = np.array([1, 1, 0, 0, 0, 0, 0, 0, 1, 0])"
   ]
  },
  {
   "cell_type": "markdown",
   "metadata": {},
   "source": [
    "### Transition model:\n",
    "#### The robot moves to the right one step eact time unit. But occassionally it does not move at all or moves two steps in a time unit.\n",
    "> $P(x_{t+1} = i+2 \\, \\mbox{mod} \\, 10 \\mid x_{t} = i) = 0.05$ <br>\n",
    "$P(x_{t+1}= i+1 \\, \\mbox{mod} \\, 10 \\mid x_{t} = i) = 0.9$ <br>\n",
    "$P(x_{t+1}= i \\mid x_{t}=i) = 0.05$"
   ]
  },
  {
   "cell_type": "code",
   "execution_count": null,
   "metadata": {},
   "outputs": [],
   "source": [
    "trans_mat = np.zeros(shape=(10,10))\n",
    "print(trans_mat)\n",
    "print(\" \")\n",
    "for i in range(0,10):\n",
    "    trans_mat[i,i] = 0.05\n",
    "    trans_mat[i,(i+1)%10] = 0.9\n",
    "    trans_mat[i,(i+2)%10] = 0.05\n",
    "print(trans_mat)"
   ]
  },
  {
   "cell_type": "markdown",
   "metadata": {},
   "source": [
    "### Sensor model:\n",
    "#### The sensor correctly detects a door (reading of 1) or a wall (reading of 0) in 90% of the cases and in 10% of the cases it is incorrect\n",
    "> $P(e_t = 1 \\mid x_t=0,1,8)=0.9$ <br>\n",
    "$P(e_t = 0 \\mid x_t=0,1,8)=0.1$ <br>\n",
    "\n",
    ">$P(e_t = 0 \\mid x_t=2,3,4,5,6,7,9)=0.9$ <br>\n",
    "$P(e_t = 1 \\mid x_t=2,3,4,5,6,7,9)=0.1$ "
   ]
  },
  {
   "cell_type": "code",
   "execution_count": null,
   "metadata": {},
   "outputs": [],
   "source": [
    "sensor_mat = np.zeros(shape=(2,10))\n",
    "sensor_mat[0,0] = 0.1  \n",
    "sensor_mat[0,1] = 0.1\n",
    "sensor_mat[0,2] = 0.9\n",
    "sensor_mat[0,3] = 0.9  \n",
    "sensor_mat[0,4] = 0.9\n",
    "sensor_mat[0,5] = 0.9\n",
    "sensor_mat[0,6] = 0.9  \n",
    "sensor_mat[0,7] = 0.9 \n",
    "sensor_mat[0,8] = 0.1\n",
    "sensor_mat[0,9] = 0.9\n",
    "sensor_mat[1,0] = 0.9  \n",
    "sensor_mat[1,1] = 0.9\n",
    "sensor_mat[1,2] = 0.1\n",
    "sensor_mat[1,3] = 0.1  \n",
    "sensor_mat[1,4] = 0.1\n",
    "sensor_mat[1,5] = 0.1\n",
    "sensor_mat[1,6] = 0.1  \n",
    "sensor_mat[1,7] = 0.1 \n",
    "sensor_mat[1,8] = 0.9\n",
    "sensor_mat[1,9] = 0.1\n",
    "print(sensor_mat)"
   ]
  },
  {
   "cell_type": "markdown",
   "metadata": {},
   "source": [
    "#### Initial belief"
   ]
  },
  {
   "cell_type": "code",
   "execution_count": null,
   "metadata": {},
   "outputs": [],
   "source": [
    "belief = np.array([.1, .1, .1, .1, .1, .1, .1, .1, .1, .1])"
   ]
  },
  {
   "cell_type": "markdown",
   "metadata": {},
   "source": [
    "### Function: Projection\n",
    "> $\\bar{b}(x_{t+1})=\\sum_{x_t}P(x_{t+1}∣x_t)b(x_t)$ \n",
    "#### Example:\n",
    "> $\\bar{b}(x_{t+1}=7)=\\sum_{i=0}^{10}P(x_{t+1}=7∣x_t=i)b(x_t=i)$"
   ]
  },
  {
   "cell_type": "code",
   "execution_count": null,
   "metadata": {},
   "outputs": [],
   "source": [
    "def projection(belief, trans_mat, project):\n",
    "    n = len(belief)    \n",
    "    for i in range(n):\n",
    "        for j in range(n):\n",
    "            project[i] += trans_mat[j][i]*belief[j]"
   ]
  },
  {
   "cell_type": "code",
   "execution_count": null,
   "metadata": {},
   "outputs": [],
   "source": [
    "n = len(belief)\n",
    "project = np.zeros(n)\n",
    "projection(belief, trans_mat, project)\n",
    "y_pos = np.arange(len(project))\n",
    "plt.ylim(0.0, 1.0)\n",
    "plt.xticks(np.arange(0, len(project), step=1))\n",
    "plt.bar(y_pos, project)"
   ]
  },
  {
   "cell_type": "markdown",
   "metadata": {},
   "source": [
    "#### Function: Update\n",
    "> $b(x_{t+1})=\\eta P(e_{t+1}∣x_{t+1})\\bar{b}(x_{t+1})$\n",
    "#### Example: sensor reading is 1:\n",
    "> $b(x_{t+1})=\\eta P(e_{t+1}=1∣x_{t+1})\\bar{b}(x_{t+1})$"
   ]
  },
  {
   "cell_type": "code",
   "execution_count": null,
   "metadata": {},
   "outputs": [],
   "source": [
    "def update(belief, project, sensor_mat, reading):\n",
    "    n = len(belief)\n",
    "    for i in range(n):\n",
    "        belief[i] = sensor_mat[reading,i]*project[i]\n",
    "    belief /= sum(belief)"
   ]
  },
  {
   "cell_type": "code",
   "execution_count": null,
   "metadata": {},
   "outputs": [],
   "source": [
    "update(belief, project, sensor_mat, 1)\n",
    "y_pos = np.arange(len(belief))\n",
    "plt.ylim(0.0, 1.0)\n",
    "plt.xticks(np.arange(0, len(belief), step=1))\n",
    "plt.bar(y_pos, belief)"
   ]
  },
  {
   "cell_type": "markdown",
   "metadata": {},
   "source": [
    "#### Second sensor reading: 0"
   ]
  },
  {
   "cell_type": "code",
   "execution_count": null,
   "metadata": {},
   "outputs": [],
   "source": [
    "n = len(belief)\n",
    "project = np.zeros(n)\n",
    "projection(belief, trans_mat, project)\n",
    "update(belief, project, sensor_mat, 0)\n",
    "y_pos = np.arange(len(belief))\n",
    "plt.ylim(0.0, 1.0)\n",
    "plt.xticks(np.arange(0, len(belief), step=1))\n",
    "plt.bar(y_pos, belief)"
   ]
  },
  {
   "cell_type": "markdown",
   "metadata": {},
   "source": [
    "#### Third sensor reading: 0"
   ]
  },
  {
   "cell_type": "code",
   "execution_count": null,
   "metadata": {},
   "outputs": [],
   "source": [
    "n = len(belief)\n",
    "project = np.zeros(n)\n",
    "projection(belief, trans_mat, project)\n",
    "update(belief, project, sensor_mat, 0)\n",
    "y_pos = np.arange(len(belief))\n",
    "plt.ylim(0.0, 1.0)\n",
    "plt.xticks(np.arange(0, len(belief), step=1))\n",
    "plt.bar(y_pos, belief)"
   ]
  },
  {
   "cell_type": "code",
   "execution_count": null,
   "metadata": {},
   "outputs": [],
   "source": []
  }
 ],
 "metadata": {
  "kernelspec": {
   "display_name": "Python 3",
   "language": "python",
   "name": "python3"
  },
  "language_info": {
   "codemirror_mode": {
    "name": "ipython",
    "version": 3
   },
   "file_extension": ".py",
   "mimetype": "text/x-python",
   "name": "python",
   "nbconvert_exporter": "python",
   "pygments_lexer": "ipython3",
   "version": "3.7.0"
  }
 },
 "nbformat": 4,
 "nbformat_minor": 2
}
